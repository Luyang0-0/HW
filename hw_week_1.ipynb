{
 "cells": [
  {
   "cell_type": "markdown",
   "metadata": {},
   "source": [
    "# Homework 1:\n",
    "This assignment is due at 11:59 PM the day before class.\n",
    "\n",
    "## 1.1 GitHub Exercise\n",
    "\n",
    "This is a simple exercise designed to give you practice using GitHub. Additionally the following questions are meant to stimulate you to think about how innovation arises and propagates. Please choose one person (out of the two) that you think made a larger difference in technology and state your reasons why. Type your answers in \"markdown\" (cell type from menu above) **Cell -> Cell Type -> Markdown**\n",
    "\n",
    "Bill Gates or Gary Kidall? "
   ]
  },
  {
   "cell_type": "markdown",
   "metadata": {},
   "source": [
    "Bill Gates; He is more well known for co-founding Microsoft."
   ]
  },
  {
   "cell_type": "markdown",
   "metadata": {},
   "source": [
    "Thomas Edison or Nicola Tesla?"
   ]
  },
  {
   "cell_type": "markdown",
   "metadata": {},
   "source": [
    "Thomas Edison; More important inventions in various categories"
   ]
  },
  {
   "cell_type": "markdown",
   "metadata": {},
   "source": [
    "Rosalind Franklin or Watson and Crick?"
   ]
  },
  {
   "cell_type": "markdown",
   "metadata": {},
   "source": [
    "Rosalind Franklin; The X-ray of DNA is the foundation for discovering the structure of DNA."
   ]
  },
  {
   "cell_type": "markdown",
   "metadata": {},
   "source": [
    "Steve(Jobs or Wozniak)?"
   ]
  },
  {
   "cell_type": "markdown",
   "metadata": {},
   "source": [
    "Steve Jobs; Although Apple was co-founded by them, Steve Wozniak left the company at the early stage. "
   ]
  },
  {
   "cell_type": "markdown",
   "metadata": {},
   "source": [
    "How might modern data science be disruptive to Global Affairs? "
   ]
  },
  {
   "cell_type": "markdown",
   "metadata": {},
   "source": [
    "##  1.2 Using Git and GitHub\n",
    "\n",
    "### Note: For full credit, please detail each step and provide an example for answers that require multiple steps \n",
    "\n",
    "__What is the difference between Git and GitHub?__\n",
    "\n",
    "\n",
    "\n",
    "\n",
    "\n",
    "\n",
    "\n"
   ]
  },
  {
   "cell_type": "markdown",
   "metadata": {},
   "source": [
    "Git is used to track the changes of source codes in computer files. GitHub is to manage and store Git repositories. "
   ]
  },
  {
   "cell_type": "markdown",
   "metadata": {},
   "source": [
    "__How do I clone a repository from GitHub?__"
   ]
  },
  {
   "cell_type": "markdown",
   "metadata": {},
   "source": [
    "(1) Go to the repository (2) Click \"Code\" (3) Copy the URL link under HTTPS (4) Go to the terminal and change the directory to the location wanted (5) In terminal, type \"get clone\" and then paste the URL link (6) Enter the Username of GitHub and the personal access token "
   ]
  },
  {
   "cell_type": "markdown",
   "metadata": {},
   "source": [
    "__How do I create my own remote branch in GitHub?__"
   ]
  },
  {
   "cell_type": "markdown",
   "metadata": {},
   "source": [
    "(1) Open terminal and change the directory to the location wanted (2) type \"git branch \\name of the new branch\\\\ \"(only create the branch); Alternatively, type \"git checkout -b \\name of the new branch\\\\\" to create the branch and switch to the created branch"
   ]
  },
  {
   "cell_type": "markdown",
   "metadata": {},
   "source": [
    "__What are the three steps for sending work from my local machine to GitHub?__"
   ]
  },
  {
   "cell_type": "markdown",
   "metadata": {},
   "source": [
    "(1) Copy the URL link of the repository (2) In the terminal, type \"git remote add origin \\URL link\\\\\" (3) type \"git push -u origin main\" to push the branch"
   ]
  },
  {
   "cell_type": "markdown",
   "metadata": {},
   "source": [
    "__How do I move between GitHub branches?__"
   ]
  },
  {
   "cell_type": "markdown",
   "metadata": {},
   "source": [
    "To switch between two existing branches, just type \"git checkout \\name of the existing branch\\\\\"; To switch to a non-existing branch, type \"git checkout -b \\name of the new branch\\\\\". "
   ]
  },
  {
   "cell_type": "markdown",
   "metadata": {},
   "source": [
    "__If new material is added to the main branch, how do I ensure that my branch is in sync?__"
   ]
  },
  {
   "cell_type": "markdown",
   "metadata": {},
   "source": [
    "(1) Type \"git add .\" (2) Type \"git commit -m 'comment'\" (3) Type \"git push\""
   ]
  },
  {
   "cell_type": "markdown",
   "metadata": {},
   "source": [
    "__If I am stuck on a homework problem, the first thing I should do is ... (pick the correct answer)__\n",
    "1. Drop the class and blame the teacher\n",
    "2. Email Casey, Sony, or Abby\n",
    "3. Consult stackoverflow and try different solutions"
   ]
  },
  {
   "cell_type": "markdown",
   "metadata": {},
   "source": [
    "3 Consult stackoverflow and try different solutions"
   ]
  },
  {
   "cell_type": "markdown",
   "metadata": {},
   "source": [
    "__What is the difference between a program and an algorithm?__"
   ]
  },
  {
   "cell_type": "markdown",
   "metadata": {},
   "source": [
    "Algorithm is a step-by-step approach to solve the problem, not directly readable by the computer. Program represents the ideas of algorithm in codes, which can be directly execited by the computer. "
   ]
  },
  {
   "cell_type": "markdown",
   "metadata": {},
   "source": [
    "__Give two examples of higher level programming languages?__"
   ]
  },
  {
   "cell_type": "markdown",
   "metadata": {},
   "source": [
    "Python and C++"
   ]
  },
  {
   "cell_type": "markdown",
   "metadata": {},
   "source": [
    "__Why is Python so popular?__"
   ]
  },
  {
   "cell_type": "markdown",
   "metadata": {},
   "source": [
    "(1) It is very readable (2) Easier to learn (3) It is free (4) Good for Machine Learning projects "
   ]
  },
  {
   "cell_type": "markdown",
   "metadata": {},
   "source": [
    "\n",
    "##  1.2 Use the Command Line to Build a Folder and File Tree\n",
    "\n",
    "In your main classroom Github repository on your local computer make a folder called SUBMISSIONS. Under this folder make a folder named week_01. This week_01 folder is where all of the submissions for this week will go.\n",
    "\n",
    "Please use the command line to build a folder tree with the below files within your week_01 folder as shown below.\n",
    "\n",
    "\n",
    "```python\n",
    "week_01\n",
    "|--answers.txt\n",
    "|--s1\n",
    "   |---s3\n",
    "   |   |---conf.txt\n",
    "   |---s2\n",
    "       |---text_chunk1.txt\n",
    "       |---Advanced\n",
    "           |---text_chunk2.txt\n",
    "```\n",
    "\n",
    "Record your commands in a text file named answers.txt and put this file in your week_01 folder\n",
    "\n",
    "s1, s2, s3, Advanced are folder (or directory) names (for example: under the week_01 folder will be the s1 folder and then the rest of the folder & file structure as shown above)\n",
    "\n",
    "Make a file named conf.txt that contains the sentence (without the quotes):\n",
    "\n",
    "\"I love bash scripting.\" \n",
    "\n",
    "Make a file named text_chunk1.txt have the following two lines (without the quotes):\n",
    "\n",
    "\"A whole new world\"\n",
    "\n",
    "\"A new fantastic point of view\"\n",
    "\n",
    "text_chunk2.txt is a copy of text_chunk1.txt with one extra text line appended (without the quotes)\n",
    "\n",
    "\"A whole new world\"\n",
    "\n",
    "\"A new fantastic point of view\"\n",
    "\n",
    "\"Do you want to build a snowman?\"\n",
    "\n",
    "Commit your answers to your repository."
   ]
  }
 ],
 "metadata": {
  "kernelspec": {
   "display_name": "Python 3 (ipykernel)",
   "language": "python",
   "name": "python3"
  },
  "language_info": {
   "codemirror_mode": {
    "name": "ipython",
    "version": 3
   },
   "file_extension": ".py",
   "mimetype": "text/x-python",
   "name": "python",
   "nbconvert_exporter": "python",
   "pygments_lexer": "ipython3",
   "version": "3.9.13"
  }
 },
 "nbformat": 4,
 "nbformat_minor": 4
}
